{
 "cells": [
  {
   "cell_type": "code",
   "execution_count": 1,
   "id": "6d3fdb91-763a-4b07-bc25-26746c0534e8",
   "metadata": {},
   "outputs": [],
   "source": [
    "%load_ext autoreload\n",
    "%autoreload 2\n",
    "\n",
    "import numpy as np\n",
    "import math\n",
    "import matplotlib.pyplot as plt\n",
    "import scanpy as sc\n",
    "import anndata as ad\n",
    "import pandas as pd\n",
    "import anndata"
   ]
  },
  {
   "cell_type": "code",
   "execution_count": 2,
   "id": "aef22124-806f-4374-931c-df4be8b2129d",
   "metadata": {},
   "outputs": [],
   "source": [
    "path = './data/hippo'"
   ]
  },
  {
   "cell_type": "markdown",
   "id": "dca6b046-7e5d-40aa-bf01-d1b56306bfc6",
   "metadata": {},
   "source": [
    "# Data preprocessing"
   ]
  },
  {
   "cell_type": "code",
   "execution_count": 3,
   "id": "9e03db47-d1da-4143-b93e-4a63ee1e20c7",
   "metadata": {},
   "outputs": [
    {
     "name": "stderr",
     "output_type": "stream",
     "text": [
      "E:\\ProgramFiles\\anaconda3\\envs\\py39\\lib\\site-packages\\anndata\\_core\\anndata.py:1908: UserWarning: Variable names are not unique. To make them unique, call `.var_names_make_unique`.\n",
      "  utils.warn_names_duplicates(\"var\")\n",
      "E:\\ProgramFiles\\anaconda3\\envs\\py39\\lib\\site-packages\\anndata\\_core\\anndata.py:1908: UserWarning: Variable names are not unique. To make them unique, call `.var_names_make_unique`.\n",
      "  utils.warn_names_duplicates(\"var\")\n"
     ]
    }
   ],
   "source": [
    "data_slice1= sc.read_visium(f'{path}/hippo-visium')\n",
    "crd = data_slice1.obsm[\"spatial\"]\n",
    "\n",
    "x = 4510\n",
    "y = 3830\n",
    "r = 2100\n",
    "\n",
    "keep = []\n",
    "for ii in range(len(crd)):\n",
    "    r2 = (crd[ii, 0] - x) ** 2 + (crd[ii, 1] - y) ** 2\n",
    "    if r2 <= r**2:\n",
    "        keep.append(ii)\n",
    "keep = np.array(keep)\n",
    "data_slice1 = data_slice1[keep, :]\n",
    "df1_location = data_slice1.obsm['spatial']\n",
    "obs1=data_slice1.obs_names\n",
    "var1=data_slice1.var_names\n",
    "data_slice1 = anndata.AnnData(X=np.array(data_slice1.X.todense()))\n",
    "data_slice1.obs_names=obs1\n",
    "data_slice1.var_names=var1\n",
    "data_slice1.obsm[\"spatial\"] = df1_location"
   ]
  },
  {
   "cell_type": "code",
   "execution_count": 4,
   "id": "20b99b40-7c0f-40d4-b0d1-b3bfd177c06b",
   "metadata": {},
   "outputs": [
    {
     "name": "stdout",
     "output_type": "stream",
     "text": [
      "1\n",
      "1\n"
     ]
    }
   ],
   "source": [
    "d2 = pd.read_csv(f'{path}/Puck_191204_01_bead_locations.csv')\n",
    "df2_location=d2[[\"xcoord\",\"ycoord\"]]\n",
    "df2_location=np.array(df2_location)\n",
    "df2_barcode_names=pd.DataFrame(index=d2[\"barcodes\"])\n",
    "\n",
    "data=open(f'{path}/Puck_191204_01.digital_expression.txt')\n",
    "df2_barcode=data.readline()\n",
    "df2_barcode=data.readline()\n",
    "df2_barcode=data.readline()\n",
    "df2_barcode=data.readline()\n",
    "df2=data.readlines()\n",
    "data.close()\n",
    "print(1)\n",
    "\n",
    "df2_gene_names=[]\n",
    "for i in range(df2.__len__()):\n",
    "    df2[i]=df2[i].split(\"\\t\")\n",
    "    df2_gene_names.append(df2[i][0])\n",
    "    del(df2[i][0])\n",
    "    df2[i]=[int(x) for x in df2[i]]\n",
    "print(1)\n",
    "\n",
    "df2=np.matrix(df2)\n",
    "df2=df2.T\n",
    "df2=np.array(df2)\n",
    "df2_gene_names=pd.DataFrame(index=df2_gene_names)\n",
    "\n",
    "data_slice2 = anndata.AnnData(X=df2, obs=df2_barcode_names,var=df2_gene_names)\n",
    "data_slice2.obsm[\"spatial\"] = df2_location"
   ]
  },
  {
   "cell_type": "code",
   "execution_count": 5,
   "id": "b4757f3f-31cd-412b-ac8c-286cd80af2ab",
   "metadata": {},
   "outputs": [
    {
     "name": "stdout",
     "output_type": "stream",
     "text": [
      "1\n",
      "1\n"
     ]
    }
   ],
   "source": [
    "d3 = pd.read_csv(f'{path}/Puck_200115_08_bead_locations.csv')\n",
    "df3_location=d3[[\"xcoord\",\"ycoord\"]]\n",
    "df3_location=np.array(df3_location)\n",
    "df3_barcode_names=pd.DataFrame(index=d3[\"barcodes\"])\n",
    "\n",
    "data=open(f'{path}/Puck_200115_08.digital_expression.txt')\n",
    "df3_barcode=data.readline()\n",
    "df3=data.readlines()\n",
    "data.close()\n",
    "print(1)\n",
    "\n",
    "df3_gene_names=[]\n",
    "for i in range(df3.__len__()):\n",
    "    df3[i]=df3[i].split(\"\\t\")\n",
    "    df3_gene_names.append(df3[i][0])\n",
    "    del(df3[i][0])\n",
    "    df3[i]=[int(x) for x in df3[i]]\n",
    "print(1)\n",
    "\n",
    "df3=np.matrix(df3)\n",
    "df3=df3.T\n",
    "df3=np.array(df3)\n",
    "df3_gene_names=pd.DataFrame(index=df3_gene_names)\n",
    "\n",
    "data_slice3 = anndata.AnnData(X=df3, obs=df3_barcode_names,var=df3_gene_names)\n",
    "data_slice3.obsm[\"spatial\"] = df3_location"
   ]
  },
  {
   "cell_type": "code",
   "execution_count": 6,
   "id": "5e13b9e3-e6ed-427e-86ee-1754871e350b",
   "metadata": {},
   "outputs": [],
   "source": [
    "data_slice3=data_slice3[data_slice3.obsm['spatial'][:,0]>800]\n",
    "data_slice3=data_slice3[data_slice3.obsm['spatial'][:,1]>700]\n",
    "data_slice3=data_slice3[data_slice3.obsm['spatial'][:,1]<1.5*data_slice3.obsm['spatial'][:,0]+3000]\n",
    "data_slice3=data_slice3[data_slice3.obsm['spatial'][:,1]>data_slice3.obsm['spatial'][:,0]-4000]\n",
    "data_slice3=data_slice3[data_slice3.obsm['spatial'][:,1]<0.5*data_slice3.obsm['spatial'][:,0] + 4250]\n",
    "\n",
    "data_slice2=data_slice2[data_slice2.obsm['spatial'][:,1]>3000-data_slice2.obsm['spatial'][:,0]]\n",
    "data_slice2=data_slice2[data_slice2.obsm['spatial'][:,1]<4000+data_slice2.obsm['spatial'][:,0]]\n",
    "data_slice2=data_slice2[data_slice2.obsm['spatial'][:,1]>700]"
   ]
  },
  {
   "cell_type": "code",
   "execution_count": 7,
   "id": "ed3824a7-ff25-46e5-b81e-8d31bd9f1ba0",
   "metadata": {},
   "outputs": [],
   "source": [
    "def process_data(adata, n_top_genes=2000):\n",
    "    adata.var_names_make_unique()\n",
    "    adata.var[\"mt\"] = adata.var_names.str.match(\"^MT|^mt|^Mt\")\n",
    "    sc.pp.calculate_qc_metrics(adata, qc_vars=[\"mt\"], inplace=True)\n",
    "    sc.pp.filter_cells(adata, min_counts=500) \n",
    "    sc.pp.filter_genes(adata, min_cells=10)\n",
    "    adata.layers[\"counts\"] = adata.X.copy()\n",
    "    sc.pp.normalize_total(adata, inplace=True)\n",
    "    sc.pp.log1p(adata)\n",
    "    sc.pp.highly_variable_genes(\n",
    "        adata, flavor=\"seurat\", n_top_genes=n_top_genes, subset=True\n",
    "    )\n",
    "    return adata\n",
    "\n",
    "data_slice1 = process_data(data_slice1, n_top_genes=3000)\n",
    "data_slice2 = process_data(data_slice2, n_top_genes=3000)\n",
    "data_slice3 = process_data(data_slice3, n_top_genes=3000)"
   ]
  },
  {
   "cell_type": "code",
   "execution_count": 8,
   "id": "1d81907d-63a4-4d74-920e-1cb22c401e59",
   "metadata": {},
   "outputs": [],
   "source": [
    "data_slice1_index=[]\n",
    "data_slice2_index=[]\n",
    "data_slice3_index=[]\n",
    "for i in range(data_slice1.shape[1]):\n",
    "    if(data_slice1.var_names[i] in data_slice2.var_names):\n",
    "        if(data_slice1.var_names[i] in data_slice3.var_names):\n",
    "            data_slice1_index.append(i)\n",
    "            data_slice2_index.append(np.where(data_slice2.var_names==data_slice1.var_names[i])[0][0])\n",
    "            data_slice3_index.append(np.where(data_slice3.var_names==data_slice1.var_names[i])[0][0])\n",
    "\n",
    "data_slice1=data_slice1[:,data_slice1_index]\n",
    "data_slice2=data_slice2[:,data_slice2_index]\n",
    "data_slice3=data_slice3[:,data_slice3_index]"
   ]
  },
  {
   "cell_type": "code",
   "execution_count": 9,
   "id": "6e8e1e07-792b-436d-a750-a9c8cff6f0d1",
   "metadata": {},
   "outputs": [
    {
     "name": "stderr",
     "output_type": "stream",
     "text": [
      "E:\\ProgramFiles\\anaconda3\\envs\\py39\\lib\\site-packages\\scanpy\\preprocessing\\_pca.py:229: ImplicitModificationWarning: Setting element `.obsm['X_pca']` of view, initializing view as actual.\n",
      "  adata.obsm['X_pca'] = X_pca\n",
      "E:\\ProgramFiles\\anaconda3\\envs\\py39\\lib\\site-packages\\scanpy\\preprocessing\\_pca.py:229: ImplicitModificationWarning: Setting element `.obsm['X_pca']` of view, initializing view as actual.\n",
      "  adata.obsm['X_pca'] = X_pca\n",
      "E:\\ProgramFiles\\anaconda3\\envs\\py39\\lib\\site-packages\\scanpy\\preprocessing\\_pca.py:229: ImplicitModificationWarning: Setting element `.obsm['X_pca']` of view, initializing view as actual.\n",
      "  adata.obsm['X_pca'] = X_pca\n"
     ]
    }
   ],
   "source": [
    "sc.tl.pca(data_slice1, svd_solver='arpack')\n",
    "sc.tl.pca(data_slice2, svd_solver='arpack')\n",
    "sc.tl.pca(data_slice3, svd_solver='arpack')"
   ]
  },
  {
   "cell_type": "markdown",
   "id": "dd6ec634-b58f-44e4-bf2e-23327b1379d7",
   "metadata": {},
   "source": [
    "## Using Prefast to get the embedding"
   ]
  },
  {
   "cell_type": "code",
   "execution_count": 10,
   "id": "134dbbb3-1997-4619-b806-0986f6c51b62",
   "metadata": {},
   "outputs": [],
   "source": [
    "data_slice1_X=pd.DataFrame(data_slice1.layers[\"counts\"])\n",
    "data_slice2_X=pd.DataFrame(data_slice2.layers[\"counts\"])\n",
    "data_slice3_X=pd.DataFrame(data_slice3.layers[\"counts\"])\n",
    "data_slice1_X.index=data_slice1.obs_names\n",
    "data_slice2_X.index=data_slice2.obs_names\n",
    "data_slice3_X.index=data_slice3.obs_names\n",
    "data_slice1_X.columns=data_slice1.var_names\n",
    "data_slice2_X.columns=data_slice2.var_names\n",
    "data_slice3_X.columns=data_slice3.var_names\n",
    "\n",
    "pd.DataFrame(data_slice1_X).to_csv(f'{path}/data_slice1_X.csv',header=True, index=True)\n",
    "pd.DataFrame(data_slice2_X).to_csv(f'{path}/data_slice2_X.csv',header=True, index=True)\n",
    "pd.DataFrame(data_slice3_X).to_csv(f'{path}/data_slice3_X.csv',header=True, index=True)\n",
    "pd.DataFrame(data_slice1.obsm['spatial']).to_csv(f'{path}/data_slice1_spatial.csv',header=False, index=False)\n",
    "pd.DataFrame(data_slice2.obsm['spatial']).to_csv(f'{path}/data_slice2_spatial.csv',header=False, index=False)\n",
    "pd.DataFrame(data_slice3.obsm['spatial']).to_csv(f'{path}/data_slice3_spatial.csv',header=False, index=False)"
   ]
  },
  {
   "cell_type": "code",
   "execution_count": 11,
   "id": "0f387667-7b6f-4348-91de-b9616e98bcee",
   "metadata": {},
   "outputs": [],
   "source": [
    "data_slice1.write_h5ad(f'{path}/data_slice1.h5ad')\n",
    "data_slice2.write_h5ad(f'{path}/data_slice2.h5ad')\n",
    "data_slice3.write_h5ad(f'{path}/data_slice3.h5ad')"
   ]
  },
  {
   "cell_type": "code",
   "execution_count": null,
   "id": "a0c805e9-3e91-4f46-8eb2-7a2b4016843a",
   "metadata": {},
   "outputs": [],
   "source": []
  }
 ],
 "metadata": {
  "kernelspec": {
   "display_name": "py39",
   "language": "python",
   "name": "py39"
  },
  "language_info": {
   "codemirror_mode": {
    "name": "ipython",
    "version": 3
   },
   "file_extension": ".py",
   "mimetype": "text/x-python",
   "name": "python",
   "nbconvert_exporter": "python",
   "pygments_lexer": "ipython3",
   "version": "3.9.18"
  }
 },
 "nbformat": 4,
 "nbformat_minor": 5
}
